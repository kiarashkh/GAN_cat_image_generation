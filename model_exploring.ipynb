{
  "cells": [
    {
      "cell_type": "markdown",
      "metadata": {
        "id": "view-in-github",
        "colab_type": "text"
      },
      "source": [
        "<a href=\"https://colab.research.google.com/github/kiarashkh/GAN_image_generation/blob/main/model_exploring.ipynb\" target=\"_parent\"><img src=\"https://colab.research.google.com/assets/colab-badge.svg\" alt=\"Open In Colab\"/></a>"
      ]
    },
    {
      "cell_type": "code",
      "source": [
        "!git clone https://github.com/kiarashkh/GAN_image_generation.git"
      ],
      "metadata": {
        "id": "-4Nw1DtZw6aN",
        "outputId": "6933e69c-810b-4ce7-b0ae-be4058c233cb",
        "colab": {
          "base_uri": "https://localhost:8080/"
        }
      },
      "execution_count": 3,
      "outputs": [
        {
          "output_type": "stream",
          "name": "stdout",
          "text": [
            "Cloning into 'GAN_image_generation'...\n",
            "remote: Enumerating objects: 30299, done.\u001b[K\n",
            "remote: Counting objects: 100% (3/3), done.\u001b[K\n",
            "remote: Compressing objects: 100% (3/3), done.\u001b[K\n",
            "remote: Total 30299 (delta 2), reused 0 (delta 0), pack-reused 30296 (from 7)\u001b[K\n",
            "Receiving objects: 100% (30299/30299), 334.46 MiB | 38.49 MiB/s, done.\n",
            "Resolving deltas: 100% (8/8), done.\n",
            "Updating files: 100% (37822/37822), done.\n"
          ]
        }
      ]
    },
    {
      "cell_type": "code",
      "execution_count": 4,
      "metadata": {
        "id": "Tg8p-VkXm62D"
      },
      "outputs": [],
      "source": [
        "import tensorflow as tf\n",
        "from tensorflow.keras import layers\n",
        "\n",
        "def make_generator(latent_dim=100):\n",
        "    model = tf.keras.Sequential()\n",
        "\n",
        "    model.add(layers.Dense(4*4*1024, use_bias=False, input_shape=(latent_dim,)))\n",
        "    model.add(layers.BatchNormalization())\n",
        "    model.add(layers.ReLU())\n",
        "    model.add(layers.Reshape((4, 4, 1024)))\n",
        "\n",
        "    model.add(layers.Conv2DTranspose(512, (5, 5), strides=(2, 2), padding=\"same\", use_bias=False))\n",
        "    model.add(layers.BatchNormalization())\n",
        "    model.add(layers.ReLU())\n",
        "\n",
        "    model.add(layers.Conv2DTranspose(256, (5, 5), strides=(2, 2), padding=\"same\", use_bias=False))\n",
        "    model.add(layers.BatchNormalization())\n",
        "    model.add(layers.ReLU())\n",
        "\n",
        "    model.add(layers.Conv2DTranspose(128, (5, 5), strides=(2, 2), padding=\"same\", use_bias=False))\n",
        "    model.add(layers.BatchNormalization())\n",
        "    model.add(layers.ReLU())\n",
        "\n",
        "    model.add(layers.Conv2DTranspose(3, (5, 5), strides=(2, 2), padding=\"same\", use_bias=False, activation=\"tanh\"))\n",
        "\n",
        "    return model\n"
      ]
    },
    {
      "cell_type": "code",
      "execution_count": 5,
      "metadata": {
        "id": "eQXJXZGMn_77"
      },
      "outputs": [],
      "source": [
        "def make_discriminator(image_shape=(64, 64, 3)):\n",
        "    model = tf.keras.Sequential()\n",
        "\n",
        "    model.add(layers.Conv2D(64, (5, 5), strides=(2, 2), padding=\"same\",\n",
        "                            input_shape=image_shape))\n",
        "    model.add(layers.LeakyReLU(alpha=0.2))\n",
        "    model.add(layers.Dropout(0.3))\n",
        "\n",
        "    model.add(layers.Conv2D(128, (5, 5), strides=(2, 2), padding=\"same\"))\n",
        "    model.add(layers.LeakyReLU(alpha=0.2))\n",
        "    model.add(layers.Dropout(0.3))\n",
        "\n",
        "    model.add(layers.Conv2D(256, (5, 5), strides=(2, 2), padding=\"same\"))\n",
        "    model.add(layers.LeakyReLU(alpha=0.2))\n",
        "    model.add(layers.Dropout(0.3))\n",
        "\n",
        "    model.add(layers.Conv2D(512, (5, 5), strides=(2, 2), padding=\"same\"))\n",
        "    model.add(layers.LeakyReLU(alpha=0.2))\n",
        "    model.add(layers.Dropout(0.3))\n",
        "\n",
        "    model.add(layers.Flatten())\n",
        "    model.add(layers.Dense(1))\n",
        "\n",
        "    return model\n"
      ]
    },
    {
      "cell_type": "code",
      "execution_count": 6,
      "metadata": {
        "id": "NYC5Tr-OokPS",
        "outputId": "16bc6569-077e-4d45-9a66-8ba3a1ecd021",
        "colab": {
          "base_uri": "https://localhost:8080/"
        }
      },
      "outputs": [
        {
          "output_type": "stream",
          "name": "stderr",
          "text": [
            "/usr/local/lib/python3.12/dist-packages/keras/src/layers/core/dense.py:93: UserWarning: Do not pass an `input_shape`/`input_dim` argument to a layer. When using Sequential models, prefer using an `Input(shape)` object as the first layer in the model instead.\n",
            "  super().__init__(activity_regularizer=activity_regularizer, **kwargs)\n",
            "/usr/local/lib/python3.12/dist-packages/keras/src/layers/convolutional/base_conv.py:113: UserWarning: Do not pass an `input_shape`/`input_dim` argument to a layer. When using Sequential models, prefer using an `Input(shape)` object as the first layer in the model instead.\n",
            "  super().__init__(activity_regularizer=activity_regularizer, **kwargs)\n",
            "/usr/local/lib/python3.12/dist-packages/keras/src/layers/activations/leaky_relu.py:41: UserWarning: Argument `alpha` is deprecated. Use `negative_slope` instead.\n",
            "  warnings.warn(\n"
          ]
        }
      ],
      "source": [
        "generator = make_generator(latent_dim=100)\n",
        "discriminator = make_discriminator()\n"
      ]
    },
    {
      "cell_type": "code",
      "execution_count": 8,
      "metadata": {
        "id": "-JwIZJ7oonzT"
      },
      "outputs": [],
      "source": [
        "cross_entropy = tf.keras.losses.BinaryCrossentropy(from_logits=True)\n",
        "\n",
        "def discriminator_loss(real_output, fake_output):\n",
        "    real_loss = cross_entropy(tf.ones_like(real_output), real_output)\n",
        "    fake_loss = cross_entropy(tf.zeros_like(fake_output), fake_output)\n",
        "    return real_loss + fake_loss\n",
        "\n",
        "def generator_loss(fake_output):\n",
        "    return cross_entropy(tf.ones_like(fake_output), fake_output)\n"
      ]
    },
    {
      "cell_type": "code",
      "execution_count": 9,
      "metadata": {
        "id": "nshAvr4ZouyN"
      },
      "outputs": [],
      "source": [
        "LR = 2e-4\n",
        "BETA_1 = 0.5\n",
        "\n",
        "generator_optimizer = tf.keras.optimizers.Adam(learning_rate=LR, beta_1=BETA_1)\n",
        "discriminator_optimizer = tf.keras.optimizers.Adam(learning_rate=LR, beta_1=BETA_1)\n"
      ]
    },
    {
      "cell_type": "code",
      "execution_count": 10,
      "metadata": {
        "id": "OmV5kC7Mo4jJ"
      },
      "outputs": [],
      "source": [
        "LATENT_DIM = 100\n",
        "BATCH_SIZE = 64\n",
        "\n",
        "@tf.function\n",
        "def train_step(real_images):\n",
        "    noise = tf.random.normal([BATCH_SIZE, LATENT_DIM])\n",
        "\n",
        "    with tf.GradientTape() as gen_tape, tf.GradientTape() as disc_tape:\n",
        "        fake_images = generator(noise, training=True)\n",
        "\n",
        "        real_logits = discriminator(real_images, training=True)\n",
        "        fake_logits = discriminator(fake_images, training=True)\n",
        "\n",
        "        gen_loss = generator_loss(fake_logits)\n",
        "        disc_loss = discriminator_loss(real_logits, fake_logits)\n",
        "\n",
        "    gen_grads = gen_tape.gradient(gen_loss, generator.trainable_variables)\n",
        "    disc_grads = disc_tape.gradient(disc_loss, discriminator.trainable_variables)\n",
        "\n",
        "    gen_grads, _ = tf.clip_by_global_norm(gen_grads, 5.0)\n",
        "    disc_grads, _ = tf.clip_by_global_norm(disc_grads, 5.0)\n",
        "\n",
        "    generator_optimizer.apply_gradients(zip(gen_grads, generator.trainable_variables))\n",
        "    discriminator_optimizer.apply_gradients(zip(disc_grads, discriminator.trainable_variables))\n",
        "\n",
        "    return gen_loss, disc_loss\n"
      ]
    },
    {
      "cell_type": "code",
      "execution_count": 11,
      "metadata": {
        "id": "206fWd8zpESY"
      },
      "outputs": [],
      "source": [
        "IMG_SIZE = 64\n",
        "\n",
        "def preprocess_image(path):\n",
        "    img = tf.io.read_file(path)\n",
        "    img = tf.image.decode_jpeg(img, channels=3)\n",
        "    img = tf.image.resize(img, [IMG_SIZE, IMG_SIZE])\n",
        "    img = (img - 127.5) / 127.5\n",
        "    return img\n"
      ]
    },
    {
      "cell_type": "code",
      "source": [
        "pics_paths = tf.data.Dataset.list_files(\"GAN_image_generation/anime_face/*.jpg\", shuffle=True)"
      ],
      "metadata": {
        "id": "UxHDqxlvpVkW"
      },
      "execution_count": 12,
      "outputs": []
    },
    {
      "cell_type": "code",
      "execution_count": 13,
      "metadata": {
        "id": "zX_1Frfnpddv"
      },
      "outputs": [],
      "source": [
        "BATCH_SIZE = 64\n",
        "\n",
        "\n",
        "pics_dataset = pics_paths.map(preprocess_image, num_parallel_calls=tf.data.AUTOTUNE)\n",
        "\n",
        "pics_dataset = (pics_dataset\n",
        "               .shuffle(buffer_size=1000)\n",
        "               .batch(BATCH_SIZE, drop_remainder=True)\n",
        "               .prefetch(tf.data.AUTOTUNE))\n"
      ]
    },
    {
      "cell_type": "code",
      "execution_count": 14,
      "metadata": {
        "colab": {
          "base_uri": "https://localhost:8080/",
          "height": 449
        },
        "outputId": "ef50a7a2-5e75-41bd-c8d5-b34a55234cd4",
        "id": "PxY7NeHsswbe"
      },
      "outputs": [
        {
          "output_type": "stream",
          "name": "stdout",
          "text": [
            "(64, 64, 64, 3)\n"
          ]
        },
        {
          "output_type": "display_data",
          "data": {
            "text/plain": [
              "<Figure size 640x480 with 1 Axes>"
            ],
            "image/png": "[encoded data removed]"
          },
          "metadata": {}
        }
      ],
      "source": [
        "import matplotlib.pyplot as plt\n",
        "\n",
        "for batch in pics_dataset.take(1):\n",
        "    print(batch.shape)\n",
        "    plt.imshow((batch[0] + 1) / 2.0)\n",
        "    plt.show()\n"
      ]
    },
    {
      "cell_type": "code",
      "execution_count": 15,
      "metadata": {
        "id": "NE0zLVL3tEBE"
      },
      "outputs": [],
      "source": [
        "import matplotlib.pyplot as plt\n",
        "import numpy as np\n",
        "\n",
        "def show_real_and_fake(generator, dataset, epoch, latent_dim=100):\n",
        "    real_batch = next(iter(dataset))\n",
        "\n",
        "    real_images = real_batch[:2]\n",
        "\n",
        "    noise = tf.random.normal([2, latent_dim])\n",
        "    fake_images = generator(noise, training=False)\n",
        "\n",
        "    real_images = (real_images + 1) / 2.0\n",
        "    fake_images = (fake_images + 1) / 2.0\n",
        "\n",
        "    fig, axes = plt.subplots(2, 2, figsize=(6, 6))\n",
        "    axes = axes.flatten()\n",
        "\n",
        "    for i in range(2):\n",
        "        axes[i].imshow(real_images[i].numpy())\n",
        "        axes[i].set_title(\"Real\")\n",
        "        axes[i].axis(\"off\")\n",
        "\n",
        "    for i in range(2):\n",
        "        axes[i+2].imshow(fake_images[i].numpy())\n",
        "        axes[i+2].set_title(\"Fake\")\n",
        "        axes[i+2].axis(\"off\")\n",
        "\n",
        "    plt.suptitle(f\"Epoch {epoch}\")\n",
        "    plt.show()\n"
      ]
    },
    {
      "cell_type": "code",
      "execution_count": null,
      "metadata": {
        "id": "xXwAvAAstNSe"
      },
      "outputs": [],
      "source": [
        "EPOCHS = 200\n",
        "\n",
        "for epoch in range(1, EPOCHS+1):\n",
        "    for real_batch in pics_dataset:\n",
        "        g_loss, d_loss = train_step(real_batch)\n",
        "\n",
        "    if not(epoch % 10):\n",
        "      print(f\"Epoch {epoch} | Generator loss: {g_loss:.4f}, Discriminator loss: {d_loss:.4f}\")\n",
        "\n",
        "    show_real_and_fake(generator, pics_dataset, epoch, latent_dim=100)\n"
      ]
    }
  ],
  "metadata": {
    "colab": {
      "name": "Welcome To Colab",
      "provenance": [],
      "gpuType": "T4",
      "include_colab_link": true
    },
    "kernelspec": {
      "display_name": "Python 3",
      "name": "python3"
    },
    "accelerator": "GPU"
  },
  "nbformat": 4,
  "nbformat_minor": 0
}